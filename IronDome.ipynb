{
 "cells": [
  {
   "cell_type": "code",
   "execution_count": null,
   "id": "c2d26dfb",
   "metadata": {},
   "outputs": [
    {
     "ename": "error",
     "evalue": "dsp: No such audio device",
     "output_type": "error",
     "traceback": [
      "\u001b[31m---------------------------------------------------------------------------\u001b[39m",
      "\u001b[31merror\u001b[39m                                     Traceback (most recent call last)",
      "\u001b[36mCell\u001b[39m\u001b[36m \u001b[39m\u001b[32mIn[4]\u001b[39m\u001b[32m, line 6\u001b[39m\n\u001b[32m      3\u001b[39m \u001b[38;5;28;01mimport\u001b[39;00m\u001b[38;5;250m \u001b[39m\u001b[34;01mpygame\u001b[39;00m\n\u001b[32m      5\u001b[39m pygame.init()\n\u001b[32m----> \u001b[39m\u001b[32m6\u001b[39m \u001b[43mpygame\u001b[49m\u001b[43m.\u001b[49m\u001b[43mmixer\u001b[49m\u001b[43m.\u001b[49m\u001b[43minit\u001b[49m\u001b[43m(\u001b[49m\u001b[43m)\u001b[49m\n\u001b[32m      8\u001b[39m \u001b[38;5;66;03m# Load siren sound\u001b[39;00m\n\u001b[32m      9\u001b[39m siren_sound = pygame.mixer.Sound(\u001b[33m\"\u001b[39m\u001b[33msiren.wav\u001b[39m\u001b[33m\"\u001b[39m)\n",
      "\u001b[31merror\u001b[39m: dsp: No such audio device"
     ]
    }
   ],
   "source": [
    "import random\n",
    "import math\n",
    "import pygame\n",
    "\n",
    "pygame.init()\n",
    "pygame.mixer.init()\n",
    "\n",
    "# Load siren sound\n",
    "siren_sound = pygame.mixer.Sound(\"siren.wav\")\n",
    "siren_channel = pygame.mixer.Channel(1)\n",
    "siren_channel.play(siren_sound, loops=1)\n",
    "\n",
    "WIDTH, HEIGHT = 1000, 800\n",
    "screen = pygame.display.set_mode((WIDTH, HEIGHT))\n",
    "pygame.display.set_caption(\"Iron Dome Defense System Simulation\")\n",
    "\n",
    "# Colors\n",
    "RED = (255, 0, 0)\n",
    "GREEN = (0, 255, 0)\n",
    "ORANGE = (255, 165, 0)\n",
    "WHITE = (255, 255, 255)\n",
    "BLUE = (0, 0, 255)\n",
    "BLACK = (0, 0, 0)\n",
    "\n",
    "# Load Iron Dome image\n",
    "iron_dome_image = pygame.image.load(\"iron_dome.jpg\")\n",
    "iron_dome_image = pygame.transform.scale(iron_dome_image, (120, 120))\n",
    "\n",
    "class Explosion:\n",
    "    def __init__(self, position):\n",
    "        self.position = position\n",
    "        self.radius = 1\n",
    "        self.alpha = 255\n",
    "        self.growth = 2\n",
    "        self.fade_speed = 15\n",
    "        \n",
    "    def update(self):\n",
    "        self.radius += self.growth\n",
    "        self.alpha -= self.fade_speed\n",
    "        if self.alpha < 0:\n",
    "            self.alpha = 0\n",
    "            \n",
    "    def draw(self, surface):\n",
    "        if self.alpha > 0:\n",
    "            explosion_surf = pygame.Surface((self.radius * 2, self.radius * 2), pygame.SRCALPHA)\n",
    "            pygame.draw.circle(explosion_surf, (255, 140, 0, self.alpha), (self.radius, self.radius), self.radius)\n",
    "            surface.blit(explosion_surf, (self.position[0] - self.radius, self.position[1] - self.radius))\n",
    "            \n",
    "    def is_finished(self):\n",
    "        return self.alpha <= 0\n",
    "\n",
    "class Rocket:\n",
    "    def __init__(self, id, launch_position, target_position, speed):\n",
    "        self.id = id\n",
    "        self.position = list(launch_position)\n",
    "        self.target_position = target_position\n",
    "        self.speed = speed\n",
    "        self.destroyed = False\n",
    "        self.hypersonic = False\n"
   ]
  }
 ],
 "metadata": {
  "kernelspec": {
   "display_name": "Python 3",
   "language": "python",
   "name": "python3"
  },
  "language_info": {
   "codemirror_mode": {
    "name": "ipython",
    "version": 3
   },
   "file_extension": ".py",
   "mimetype": "text/x-python",
   "name": "python",
   "nbconvert_exporter": "python",
   "pygments_lexer": "ipython3",
   "version": "3.12.1"
  }
 },
 "nbformat": 4,
 "nbformat_minor": 5
}
